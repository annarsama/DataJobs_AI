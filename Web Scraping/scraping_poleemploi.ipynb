{
 "cells": [
  {
   "cell_type": "markdown",
   "metadata": {},
   "source": [
    "# Web Scraping des offres de Pole-Emploi (et partenaires) par intéractiona avec l'API de Pole-Emploi"
   ]
  },
  {
   "cell_type": "code",
   "execution_count": null,
   "metadata": {},
   "outputs": [],
   "source": [
    "import requests\n",
    "import pandas as pd\n",
    "import re\n",
    "\n",
    "from login_poleemploi import identifiant_poleemploi"
   ]
  },
  {
   "cell_type": "code",
   "execution_count": null,
   "metadata": {},
   "outputs": [],
   "source": [
    "identifiant, password = identifiant_poleemploi() # On cache les identifiants d'accès à pole-emploi pour éviter tout problème de sécurité.\n",
    "query_params = {\"grant_type\":\"client_credentials\",\n",
    "                \"client_id\": identifiant, \n",
    "                \"client_secret\": password,\n",
    "                \"scope\": \"api_offresdemploiv2 o2dsoffre\"\n",
    "}\n",
    "\n",
    "headers = {\"Content-Type\": \"application/x-www-form-urlencoded\"}"
   ]
  },
  {
   "cell_type": "markdown",
   "metadata": {},
   "source": [
    "Nous devons tout d'abord faire une demande d'un token d'accès pour l'api d'offre d'emploi. "
   ]
  },
  {
   "cell_type": "code",
   "execution_count": null,
   "metadata": {},
   "outputs": [],
   "source": [
    "# On réalise la requpete pour obtenir une clé d'accès à l'API de Pole-Emploi en utilisant les identifiants obtenus sur le site pole-emploi.io\n",
    "result = requests.post(\"https://entreprise.pole-emploi.fr/connexion/oauth2/access_token?realm=%2Fpartenaire\", data=query_params, headers=headers)"
   ]
  },
  {
   "cell_type": "code",
   "execution_count": null,
   "metadata": {},
   "outputs": [],
   "source": [
    "result.json()"
   ]
  },
  {
   "cell_type": "markdown",
   "metadata": {},
   "source": [
    "Nous pouvons ensuite passer à l'extraction des différentes offres."
   ]
  },
  {
   "cell_type": "code",
   "execution_count": null,
   "metadata": {},
   "outputs": [],
   "source": [
    "# On crée ensuite un dictionnaire pour récupérer les différentes informations\n",
    "dict_poleemploi = {\n",
    "    \"entreprise\": [],\n",
    "    \"titre\": [],\n",
    "    \"type_contrat\": [],\n",
    "    \"lieu\": [],\n",
    "    \"date_publication\": [],\n",
    "    \"source\": [],\n",
    "    \"link\": [],\n",
    "    \"descriptif\": [],\n",
    "    \"salaire\": [],\n",
    "    \"experience\": []\n",
    "}\n"
   ]
  },
  {
   "cell_type": "code",
   "execution_count": null,
   "metadata": {},
   "outputs": [],
   "source": [
    "liste_offre = requests.get(\"https://api.pole-emploi.io/partenaire/offresdemploi/v2/offres/search?motsCles=data&origineOffre=2&sort=1&minCreationDate=2024-01-07T11:10:00Z&maxCreationDate=2024-01-08T06:37:55Z\",\n",
    "                           headers={'Authorization': f'Bearer {result.json()[\"access_token\"]}'})"
   ]
  },
  {
   "cell_type": "markdown",
   "metadata": {},
   "source": [
    "Les paramètres suivants indiquent donc le mot clé que nous cherchons (\"data\"), l'origine de l'offre (Pole-Emploi ou partenaires) ainsi que la date minimale et maximal de création de l'offre (attention, l'un oblige la présence de l'autre).\n",
    "\n",
    "Le nombre d'offres par requête étant limité à 150, nous devons changer manuellement les dates (principalement maximal) pour récupérer toutes les dates petit à petit. Nous réalisons la même manipulation pour les origines de l'offre."
   ]
  },
  {
   "cell_type": "code",
   "execution_count": null,
   "metadata": {},
   "outputs": [],
   "source": [
    "params = {\n",
    "    \"motsCles\": \"data\",\n",
    "    \"origineOffre\": 1,\n",
    "    \"minCreationDate\": \"2023-01-01T00:01:00Z\",\n",
    "    \"maxCreationDate\":\"2024-01-11T09:00:00Z\"\n",
    "}"
   ]
  },
  {
   "cell_type": "code",
   "execution_count": null,
   "metadata": {},
   "outputs": [],
   "source": [
    "liste_offre = requests.get(\"https://api.pole-emploi.io/partenaire/offresdemploi/v2/offres/search?\",\n",
    "                           headers={'Authorization': f'Bearer {result.json()[\"access_token\"]}'}, params=params)\n",
    "liste_offre"
   ]
  },
  {
   "cell_type": "code",
   "execution_count": null,
   "metadata": {},
   "outputs": [],
   "source": [
    "liste_offre.json()"
   ]
  },
  {
   "cell_type": "markdown",
   "metadata": {},
   "source": [
    "On navie donc ensuite à travers le fichier json pour récupérer les informations qui nous intéressent."
   ]
  },
  {
   "cell_type": "code",
   "execution_count": null,
   "metadata": {},
   "outputs": [],
   "source": [
    "for item in liste_offre.json()[\"resultats\"]:\n",
    "    if 'entreprise' in item and 'nom' in item['entreprise']:\n",
    "        dict_poleemploi[\"entreprise\"].append(item['entreprise']['nom'])\n",
    "    else: \n",
    "        dict_poleemploi[\"entreprise\"].append(\"Non spécifié\")\n",
    "    dict_poleemploi[\"titre\"].append(item['intitule'])\n",
    "    if 'typeContrat' in item:\n",
    "        dict_poleemploi[\"type_contrat\"].append(item['typeContrat'])\n",
    "    else: \n",
    "         dict_poleemploi[\"type_contrat\"].append(\"Non spécifié\")\n",
    "    if 'lieuTravail' in item and 'codePostal' in item['lieuTravail']:\n",
    "        dict_poleemploi[\"lieu\"].append(item['lieuTravail']['codePostal'])\n",
    "    else: \n",
    "        dict_poleemploi[\"lieu\"].append(item['lieuTravail']['libelle'])\n",
    "    if 'partenaires' in item['origineOffre']:\n",
    "        dict_poleemploi[\"source\"].append(item['origineOffre']['partenaires'][0][\"nom\"])\n",
    "    else: \n",
    "        dict_poleemploi[\"source\"].append(\"Pole-Emploi\")\n",
    "    if 'salaire' in item and \"libelle\" in item[\"salaire\"]:\n",
    "        dict_poleemploi[\"salaire\"].append(item[\"salaire\"][\"libelle\"])\n",
    "    else:\n",
    "        dict_poleemploi[\"salaire\"].append(\"Non spécifié\")\n",
    "    if 'experienceLibelle' in item:\n",
    "        dict_poleemploi[\"experience\"].append(item[\"experienceLibelle\"])\n",
    "    else:\n",
    "        dict_poleemploi[\"experience\"].append(\"Non spécifié\") \n",
    "    dict_poleemploi[\"date_publication\"].append(item['dateCreation'])\n",
    "    dict_poleemploi[\"link\"].append(item['origineOffre']['urlOrigine'])\n",
    "    dict_poleemploi[\"descriptif\"].append(item['description'])\n",
    "    "
   ]
  },
  {
   "cell_type": "code",
   "execution_count": null,
   "metadata": {},
   "outputs": [],
   "source": [
    "print(len(dict_poleemploi[\"entreprise\"]))"
   ]
  },
  {
   "cell_type": "code",
   "execution_count": null,
   "metadata": {},
   "outputs": [],
   "source": [
    "df_poleemploi = pd.DataFrame(dict_poleemploi)\n",
    "df_poleemploi.head(10)"
   ]
  },
  {
   "cell_type": "code",
   "execution_count": null,
   "metadata": {},
   "outputs": [],
   "source": [
    "import re\n",
    "\n",
    "# On crée une petite fonction de nettoyage rapide pour enlever certains patterns de caractères ou espaces en trop.\n",
    "def clean_string(text):\n",
    "    cleaned_text = text.replace('\\n', ' ')\n",
    "    cleaned_text = cleaned_text.replace('\\t', ' ')\n",
    "    cleaned_text = cleaned_text.replace('\\xa0', ' ')\n",
    "    cleaned_text = cleaned_text.replace('&nbsp', ' ')\n",
    "    cleaned_text = cleaned_text.replace('-', ' ')\n",
    "    cleaned_text = re.sub(r'\\s+', ' ', cleaned_text)\n",
    "\n",
    "    return cleaned_text"
   ]
  },
  {
   "cell_type": "code",
   "execution_count": null,
   "metadata": {},
   "outputs": [],
   "source": [
    "df_poleemploi['descriptif'] = df_poleemploi['descriptif'].apply(clean_string)"
   ]
  },
  {
   "cell_type": "code",
   "execution_count": null,
   "metadata": {},
   "outputs": [],
   "source": [
    "df_poleemploi['descriptif'][1]"
   ]
  },
  {
   "cell_type": "markdown",
   "metadata": {},
   "source": [
    "Certaines offres divisent bien dans leur texte la partie descriptif de celle du profil requis. Nous divisons donc ce document en deux en utilisant \"Profil\" comme point de coupure."
   ]
  },
  {
   "cell_type": "code",
   "execution_count": null,
   "metadata": {},
   "outputs": [],
   "source": [
    "df_poleemploi[['descriptif', 'profil']] = df_poleemploi['descriptif'].str.split('Profil', n=1, expand=True)"
   ]
  },
  {
   "cell_type": "code",
   "execution_count": null,
   "metadata": {},
   "outputs": [],
   "source": [
    "df_poleemploi.head(10)"
   ]
  },
  {
   "cell_type": "code",
   "execution_count": null,
   "metadata": {},
   "outputs": [],
   "source": [
    "df_poleemploi.iloc[1,:]"
   ]
  },
  {
   "cell_type": "code",
   "execution_count": null,
   "metadata": {},
   "outputs": [],
   "source": [
    "# On enregistre le dataframe en un fichier csv en spécifiant bien l'encodage pour garder les caractères spéciaux propre au français.\n",
    "df_poleemploi.to_csv(\"poleemploi_11012024.csv\", index=None, encoding=\"utf-8-sig\")"
   ]
  }
 ],
 "metadata": {
  "kernelspec": {
   "display_name": "base",
   "language": "python",
   "name": "python3"
  },
  "language_info": {
   "codemirror_mode": {
    "name": "ipython",
    "version": 3
   },
   "file_extension": ".py",
   "mimetype": "text/x-python",
   "name": "python",
   "nbconvert_exporter": "python",
   "pygments_lexer": "ipython3",
   "version": "3.9.12"
  }
 },
 "nbformat": 4,
 "nbformat_minor": 2
}
